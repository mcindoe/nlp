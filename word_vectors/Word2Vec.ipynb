{
 "cells": [
  {
   "cell_type": "markdown",
   "metadata": {},
   "source": [
    "# Training of the Word2Vec model #\n",
    "\n",
    "We used an open source database of financial headlines to train the word2vec model. The data can be download on the website : https://webhose.io/free-datasets/financial-news-articles/\n",
    "This Notebook provide the code we used to train the model. \n",
    "\n",
    "The particularity of this part is, contrary to the authors of the paper, we used exclusively financial words to train our model. "
   ]
  },
  {
   "cell_type": "markdown",
   "metadata": {},
   "source": [
    "# Installation and importation of packages"
   ]
  },
  {
   "cell_type": "code",
   "execution_count": null,
   "metadata": {},
   "outputs": [],
   "source": [
    "pip install Cython"
   ]
  },
  {
   "cell_type": "code",
   "execution_count": null,
   "metadata": {},
   "outputs": [],
   "source": [
    "from gensim.models import word2vec\n",
    "\n",
    "import logging\n",
    "import pandas as pd\n",
    "\n",
    "import json\n",
    "import os"
   ]
  },
  {
   "cell_type": "markdown",
   "metadata": {},
   "source": [
    "# Gathering the data\n",
    "\n",
    "We did not provide the data we used, but if the user downloaded the data the next part explain how to gather the data in order to train the model :"
   ]
  },
  {
   "cell_type": "code",
   "execution_count": null,
   "metadata": {},
   "outputs": [],
   "source": [
    "training_text= []\n",
    "\n",
    "# Change the path to fit with your own : \n",
    "path = '/Users/macbookpro/Desktop/'\n",
    "\n",
    "json_folders = ['666_webhose-2015-07_201709004105917',\n",
    "                '666_webhose-2015-08_20170904105554',\n",
    "                '666_webhose-2015-09-new_20170904105713',\n",
    "                '666_webhose-2015-10-new_20170904105820']"
   ]
  },
  {
   "cell_type": "markdown",
   "metadata": {},
   "source": [
    "# Definition of the createtextfromjson function\n",
    "This function allows to create the text file regrouping all the headlines in a list"
   ]
  },
  {
   "cell_type": "code",
   "execution_count": null,
   "metadata": {},
   "outputs": [],
   "source": [
    "def createtextfromjson (path,json_folders,text):\n",
    "    for folder in json_folders:\n",
    "        for filename in os.listdir(path+folder):\n",
    "            with open(path+folder+'/'+filename) as read_it:\n",
    "                content = json.load(read_it)\n",
    "                text += content ['text'].split('\\n')\n",
    "                \n",
    "        print(folder)\n",
    "    return text"
   ]
  },
  {
   "cell_type": "code",
   "execution_count": null,
   "metadata": {},
   "outputs": [],
   "source": [
    "#Use the function : \n",
    "text = createtextfromjson(path,json_folders,training_text)"
   ]
  },
  {
   "cell_type": "markdown",
   "metadata": {},
   "source": [
    "# Remove the punctuation"
   ]
  },
  {
   "cell_type": "code",
   "execution_count": null,
   "metadata": {},
   "outputs": [],
   "source": [
    "punctuation = ['\\n', '.', ',', '\"', ':', \"'\", '-', '/', '(',')', ';']\n",
    "for i in range(len(text)):\n",
    "    for mark in punctuation:\n",
    "        text[i] = text[i].replace(mark, ' ')\n",
    "        text[i] = text[i].upper()\n",
    "#print(text)"
   ]
  },
  {
   "cell_type": "markdown",
   "metadata": {},
   "source": [
    "Convert the list of headlines into one string"
   ]
  },
  {
   "cell_type": "code",
   "execution_count": null,
   "metadata": {},
   "outputs": [],
   "source": [
    "training_data = ' '.join(text)"
   ]
  },
  {
   "cell_type": "markdown",
   "metadata": {},
   "source": [
    "# Training part"
   ]
  },
  {
   "cell_type": "code",
   "execution_count": null,
   "metadata": {},
   "outputs": [],
   "source": [
    "sentences = word2vec.LineSentence(training_data)"
   ]
  },
  {
   "cell_type": "code",
   "execution_count": null,
   "metadata": {},
   "outputs": [],
   "source": [
    "model = word2vec.Word2Vec(sentences, size=300)"
   ]
  },
  {
   "cell_type": "markdown",
   "metadata": {},
   "source": [
    "# Example \n",
    "give the closest neighbors of one word"
   ]
  },
  {
   "cell_type": "code",
   "execution_count": null,
   "metadata": {},
   "outputs": [],
   "source": [
    "model.wv.most_similar('sell')"
   ]
  }
 ],
 "metadata": {
  "kernelspec": {
   "display_name": "Python 3",
   "language": "python",
   "name": "python3"
  },
  "language_info": {
   "codemirror_mode": {
    "name": "ipython",
    "version": 3
   },
   "file_extension": ".py",
   "mimetype": "text/x-python",
   "name": "python",
   "nbconvert_exporter": "python",
   "pygments_lexer": "ipython3",
   "version": "3.7.3"
  }
 },
 "nbformat": 4,
 "nbformat_minor": 2
}
