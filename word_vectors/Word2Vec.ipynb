{
 "cells": [
  {
   "cell_type": "code",
   "execution_count": 99,
   "metadata": {},
   "outputs": [
    {
     "name": "stdout",
     "output_type": "stream",
     "text": [
      "Requirement already satisfied: Cython in ./anaconda3/lib/python3.7/site-packages (0.29.13)\n",
      "Note: you may need to restart the kernel to use updated packages.\n"
     ]
    }
   ],
   "source": [
    "pip install Cython"
   ]
  },
  {
   "cell_type": "code",
   "execution_count": 3,
   "metadata": {},
   "outputs": [],
   "source": [
    "from gensim.models import word2vec\n",
    "\n",
    "import logging\n",
    "import pandas as pd\n",
    "\n",
    "import json\n",
    "import os"
   ]
  },
  {
   "cell_type": "code",
   "execution_count": 28,
   "metadata": {},
   "outputs": [
    {
     "name": "stdout",
     "output_type": "stream",
     "text": [
      "<class 'list'>\n"
     ]
    }
   ],
   "source": [
    "training_text= []\n",
    "# path = '/Users/macbookpro/Downloads/666_20170904105517/'\n",
    "path = '/Users/macbookpro/Desktop/'\n",
    "json_folders = ['DATA', 'DATA1', 'DATA2','DATA3']\n",
    "#                 '666_webhose-2015-07_201709004105917',\n",
    "#                '666_webhose-2015-08_20170904105554',\n",
    "#                '666_webhose-2015-09-new_20170904105713',\n",
    "#                '666_webhose-2015-10-new_20170904105820']\n",
    "\n",
    "\n",
    "#file = json.loads('/Users/macbookpro/Desktop/Stats for Finance Assignement/666_20170904105517/666_webhose-2015-07_20170904105917/news_0000001.json')\n",
    "#print(file)\n",
    "print(type(training_text))\n"
   ]
  },
  {
   "cell_type": "code",
   "execution_count": 29,
   "metadata": {},
   "outputs": [],
   "source": [
    "def createtextfromjson (path,json_folders,text):\n",
    "    for folder in json_folders:\n",
    "        for filename in os.listdir(path+folder):\n",
    "            with open(path+folder+'/'+filename) as read_it:\n",
    "                content = json.load(read_it)\n",
    "                text += content ['text'].split('\\n')\n",
    "                \n",
    "        print(folder)\n",
    "    return text"
   ]
  },
  {
   "cell_type": "code",
   "execution_count": 30,
   "metadata": {},
   "outputs": [
    {
     "name": "stdout",
     "output_type": "stream",
     "text": [
      "DATA\n",
      "DATA1\n",
      "DATA2\n",
      "DATA3\n",
      "<class '_io.TextIOWrapper'>\n"
     ]
    }
   ],
   "source": [
    "#text1 = open('/Users/macbookpro/Downloads/training_data.txt')\n",
    "\n",
    "text = createtextfromjson(path,json_folders,training_text)\n",
    "print(type(text1))"
   ]
  },
  {
   "cell_type": "code",
   "execution_count": 31,
   "metadata": {},
   "outputs": [],
   "source": [
    "punctuation = ['\\n', '.', ',', '\"', ':', \"'\", '-', '/', '(',')', ';']\n",
    "for i in range(len(text)):\n",
    "    for mark in punctuation:\n",
    "        text[i] = text[i].replace(mark, ' ')\n",
    "#print(text)"
   ]
  },
  {
   "cell_type": "code",
   "execution_count": 32,
   "metadata": {},
   "outputs": [
    {
     "name": "stdout",
     "output_type": "stream",
     "text": [
      "<class 'str'>\n"
     ]
    }
   ],
   "source": [
    "training_data = ' '.join(text)\n",
    "#training_data.upper\n",
    "print(type(training_data))"
   ]
  },
  {
   "cell_type": "code",
   "execution_count": 33,
   "metadata": {},
   "outputs": [],
   "source": [
    "f = open(\"guru99.txt\",\"a+\")\n"
   ]
  },
  {
   "cell_type": "code",
   "execution_count": 34,
   "metadata": {},
   "outputs": [
    {
     "data": {
      "text/plain": [
       "140610655"
      ]
     },
     "execution_count": 34,
     "metadata": {},
     "output_type": "execute_result"
    }
   ],
   "source": [
    "f.write(training_data)"
   ]
  },
  {
   "cell_type": "code",
   "execution_count": 35,
   "metadata": {},
   "outputs": [
    {
     "data": {
      "text/plain": [
       "_io.TextIOWrapper"
      ]
     },
     "execution_count": 35,
     "metadata": {},
     "output_type": "execute_result"
    }
   ],
   "source": [
    "type(f)"
   ]
  },
  {
   "cell_type": "code",
   "execution_count": 1,
   "metadata": {},
   "outputs": [],
   "source": [
    "file = open('/Users/macbookpro/guru99.txt')"
   ]
  },
  {
   "cell_type": "code",
   "execution_count": 4,
   "metadata": {},
   "outputs": [],
   "source": [
    "sentences = word2vec.LineSentence(file)\n",
    "# print(type(sentences))\n",
    "# print(type(text))\n",
    "# print(type(training_data))"
   ]
  },
  {
   "cell_type": "code",
   "execution_count": 5,
   "metadata": {},
   "outputs": [],
   "source": [
    "model = word2vec.Word2Vec(sentences, size=300)"
   ]
  },
  {
   "cell_type": "code",
   "execution_count": 38,
   "metadata": {},
   "outputs": [
    {
     "data": {
      "text/plain": [
       "[('buy', 0.650428295135498),\n",
       " ('offload', 0.5882338285446167),\n",
       " ('selling', 0.5524814128875732),\n",
       " ('unload', 0.5160523056983948),\n",
       " ('wean', 0.513511598110199),\n",
       " ('resell', 0.49611330032348633),\n",
       " ('invest', 0.4950122833251953),\n",
       " ('hold', 0.48761454224586487),\n",
       " ('sold', 0.4868462085723877),\n",
       " ('spin', 0.4823271632194519)]"
      ]
     },
     "execution_count": 38,
     "metadata": {},
     "output_type": "execute_result"
    }
   ],
   "source": [
    "model.wv.most_similar('sell')"
   ]
  },
  {
   "cell_type": "code",
   "execution_count": 39,
   "metadata": {},
   "outputs": [],
   "source": [
    "f.close()"
   ]
  },
  {
   "cell_type": "code",
   "execution_count": null,
   "metadata": {},
   "outputs": [],
   "source": []
  }
 ],
 "metadata": {
  "kernelspec": {
   "display_name": "Python 3",
   "language": "python",
   "name": "python3"
  },
  "language_info": {
   "codemirror_mode": {
    "name": "ipython",
    "version": 3
   },
   "file_extension": ".py",
   "mimetype": "text/x-python",
   "name": "python",
   "nbconvert_exporter": "python",
   "pygments_lexer": "ipython3",
   "version": "3.7.3"
  }
 },
 "nbformat": 4,
 "nbformat_minor": 2
}
