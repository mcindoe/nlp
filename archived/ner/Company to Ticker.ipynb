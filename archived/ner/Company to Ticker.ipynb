{
 "cells": [
  {
   "cell_type": "code",
   "execution_count": 1,
   "metadata": {},
   "outputs": [],
   "source": [
    "import nltk\n",
    "from nltk.tokenize import sent_tokenize, word_tokenize\n",
    "from nltk.corpus import stopwords\n",
    "from nltk.stem import PorterStemmer\n",
    "from nltk.tag import StanfordNERTagger\n",
    "import os\n",
    "import pandas as pd"
   ]
  },
  {
   "cell_type": "code",
   "execution_count": 30,
   "metadata": {},
   "outputs": [
    {
     "data": {
      "text/plain": [
       "['Google', 'announces', 'takeover', 'of', 'Microsoft']"
      ]
     },
     "execution_count": 30,
     "metadata": {},
     "output_type": "execute_result"
    }
   ],
   "source": [
    "header = \"Google announces takeover of Microsoft\"\n",
    "\n",
    "tokens = nltk.word_tokenize(header)\n",
    "tokens"
   ]
  },
  {
   "cell_type": "code",
   "execution_count": 31,
   "metadata": {},
   "outputs": [
    {
     "data": {
      "text/plain": [
       "[('Google', 'NNP'),\n",
       " ('announces', 'VBZ'),\n",
       " ('takeover', 'NN'),\n",
       " ('of', 'IN'),\n",
       " ('Microsoft', 'NNP')]"
      ]
     },
     "execution_count": 31,
     "metadata": {},
     "output_type": "execute_result"
    }
   ],
   "source": [
    "tagged = nltk.pos_tag(tokens)\n",
    "tagged"
   ]
  },
  {
   "cell_type": "code",
   "execution_count": 32,
   "metadata": {
    "scrolled": true
   },
   "outputs": [
    {
     "name": "stdout",
     "output_type": "stream",
     "text": [
      "['Google announces takeover of Microsoft']\n",
      "['Google', 'announces', 'takeover', 'of', 'Microsoft']\n"
     ]
    }
   ],
   "source": [
    "phrases = sent_tokenize(header)\n",
    "words = word_tokenize(header)\n",
    " \n",
    "print(phrases)\n",
    "print(words)"
   ]
  },
  {
   "cell_type": "code",
   "execution_count": 33,
   "metadata": {},
   "outputs": [
    {
     "name": "stdout",
     "output_type": "stream",
     "text": [
      "['Google', 'announces', 'takeover', 'Microsoft']\n"
     ]
    }
   ],
   "source": [
    "stopWords = set(stopwords.words('english'))\n",
    "filtered_words = [w for w in words if w not in stopWords]\n",
    " \n",
    "print(filtered_words)"
   ]
  },
  {
   "cell_type": "code",
   "execution_count": 34,
   "metadata": {
    "scrolled": true
   },
   "outputs": [
    {
     "name": "stdout",
     "output_type": "stream",
     "text": [
      "googl\n",
      "announc\n",
      "takeov\n",
      "of\n",
      "microsoft\n"
     ]
    }
   ],
   "source": [
    "ps = PorterStemmer()\n",
    " \n",
    "for word in words:\n",
    "    print(ps.stem(word))"
   ]
  },
  {
   "cell_type": "code",
   "execution_count": 35,
   "metadata": {},
   "outputs": [],
   "source": [
    "# Francesco's settings\n",
    "# java_path = \"/Users/macbookpro/Downloads/jdk-13.0.1.jdk/Contents/Home/bin/java\"\n",
    "\n",
    "# Enter your username in here. I've put the paths you wrote as an attribute in the dictionary below\n",
    "user = 'Conor'\n",
    "\n",
    "# Dictionary containing the Java paths for each user\n",
    "java_paths = {\n",
    "    'Conor': '/usr/lib/jvm/java-8-openjdk-amd64',\n",
    "    'Francesco': '/Users/macbookpro/Downloads/jdk-13.0.1.jdk/Contents/Home/bin/java',\n",
    "    'Cecilia': 'C:/Program Files/Java/jdk-13.0.1/bin/java.exe'\n",
    "}\n",
    "\n",
    "os.environ['JAVAHOME'] = java_paths[user]\n",
    "\n",
    "st = StanfordNERTagger(\n",
    "    'stanford-ner-2014-06-16/classifiers/english.all.3class.distsim.crf.ser.gz',\n",
    "    'stanford-ner-2014-06-16/stanford-ner.jar',\n",
    "    encoding = 'utf-8'\n",
    ")\n",
    "\n",
    "# Previous settings - updated to refer to version as in the GitHub repo so this should run for everyone\n",
    "# st = StanfordNERTagger('/Users/macbookpro/Downloads/stanford-ner-2014-06-16/classifiers/english.all.3class.distsim.crf.ser.gz',\n",
    "#                           '/Users/macbookpro/Downloads/stanford-ner-2014-06-16/stanford-ner.jar',\n",
    "#                         encoding='utf-8')"
   ]
  },
  {
   "cell_type": "code",
   "execution_count": 36,
   "metadata": {},
   "outputs": [
    {
     "name": "stdout",
     "output_type": "stream",
     "text": [
      "Tokenized Text:\n",
      "Google\n",
      "announces\n",
      "takeover\n",
      "of\n",
      "Microsoft\n",
      "\n",
      "Classified Text:\n",
      "('Google', 'ORGANIZATION')\n",
      "('announces', 'O')\n",
      "('takeover', 'O')\n",
      "('of', 'O')\n",
      "('Microsoft', 'ORGANIZATION')\n"
     ]
    }
   ],
   "source": [
    "# -*- coding: utf-8 -*-\n",
    "tokenized_text = word_tokenize(header)\n",
    "classified_text = st.tag(tokenized_text)\n",
    "\n",
    "print('Tokenized Text:')\n",
    "for el in tokenized_text:\n",
    "    print(el)\n",
    "\n",
    "print('\\nClassified Text:')\n",
    "for el in classified_text:\n",
    "    print(el)"
   ]
  },
  {
   "cell_type": "code",
   "execution_count": 37,
   "metadata": {},
   "outputs": [
    {
     "name": "stdout",
     "output_type": "stream",
     "text": [
      "Words:\n",
      "Google\n",
      "announces\n",
      "takeover\n",
      "of\n",
      "Microsoft\n",
      "\n",
      "Classifications:\n",
      "ORGANIZATION\n",
      "O\n",
      "O\n",
      "O\n",
      "ORGANIZATION\n"
     ]
    }
   ],
   "source": [
    "# Bit python magic to separate the list of tuples into two separate lists\n",
    "words, classifications = zip(*classified_text)\n",
    "\n",
    "print('Words:')\n",
    "for el in words:\n",
    "    print(el)\n",
    "    \n",
    "print('\\nClassifications:')\n",
    "for el in classifications:\n",
    "    print(el)"
   ]
  },
  {
   "cell_type": "code",
   "execution_count": 38,
   "metadata": {},
   "outputs": [
    {
     "data": {
      "text/html": [
       "<div>\n",
       "<style scoped>\n",
       "    .dataframe tbody tr th:only-of-type {\n",
       "        vertical-align: middle;\n",
       "    }\n",
       "\n",
       "    .dataframe tbody tr th {\n",
       "        vertical-align: top;\n",
       "    }\n",
       "\n",
       "    .dataframe thead th {\n",
       "        text-align: right;\n",
       "    }\n",
       "</style>\n",
       "<table border=\"1\" class=\"dataframe\">\n",
       "  <thead>\n",
       "    <tr style=\"text-align: right;\">\n",
       "      <th></th>\n",
       "      <th>0</th>\n",
       "    </tr>\n",
       "  </thead>\n",
       "  <tbody>\n",
       "    <tr>\n",
       "      <th>Google</th>\n",
       "      <td>ORGANIZATION</td>\n",
       "    </tr>\n",
       "    <tr>\n",
       "      <th>announces</th>\n",
       "      <td>O</td>\n",
       "    </tr>\n",
       "    <tr>\n",
       "      <th>takeover</th>\n",
       "      <td>O</td>\n",
       "    </tr>\n",
       "    <tr>\n",
       "      <th>of</th>\n",
       "      <td>O</td>\n",
       "    </tr>\n",
       "    <tr>\n",
       "      <th>Microsoft</th>\n",
       "      <td>ORGANIZATION</td>\n",
       "    </tr>\n",
       "  </tbody>\n",
       "</table>\n",
       "</div>"
      ],
      "text/plain": [
       "                      0\n",
       "Google     ORGANIZATION\n",
       "announces             O\n",
       "takeover              O\n",
       "of                    O\n",
       "Microsoft  ORGANIZATION"
      ]
     },
     "execution_count": 38,
     "metadata": {},
     "output_type": "execute_result"
    }
   ],
   "source": [
    "data = pd.DataFrame(classifications, words)\n",
    "data"
   ]
  },
  {
   "cell_type": "code",
   "execution_count": null,
   "metadata": {},
   "outputs": [],
   "source": []
  }
 ],
 "metadata": {
  "kernelspec": {
   "display_name": "nlp",
   "language": "python",
   "name": "nlp"
  },
  "language_info": {
   "codemirror_mode": {
    "name": "ipython",
    "version": 3
   },
   "file_extension": ".py",
   "mimetype": "text/x-python",
   "name": "python",
   "nbconvert_exporter": "python",
   "pygments_lexer": "ipython3",
   "version": "3.6.8"
  }
 },
 "nbformat": 4,
 "nbformat_minor": 2
}
