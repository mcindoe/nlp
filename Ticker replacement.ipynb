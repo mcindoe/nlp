{
 "cells": [
  {
   "cell_type": "code",
   "execution_count": 1,
   "metadata": {},
   "outputs": [],
   "source": [
    "import nltk\n",
    "from nltk.tokenize import sent_tokenize, word_tokenize\n",
    "from nltk.corpus import stopwords\n",
    "from nltk.stem import PorterStemmer\n",
    "import os\n",
    "from nltk.tag import StanfordNERTagger\n",
    "import pandas as pd\n",
    "import numpy as np"
   ]
  },
  {
   "cell_type": "code",
   "execution_count": 2,
   "metadata": {},
   "outputs": [],
   "source": [
    "java_path = \"/Users/macbookpro/Downloads/jdk-13.0.1.jdk/Contents/Home/bin/java\"\n",
    "os.environ['JAVAHOME'] = java_path\n",
    "st = StanfordNERTagger('/Users/macbookpro/Downloads/stanford-ner-2014-06-16/classifiers/english.all.3class.distsim.crf.ser.gz',\n",
    "                          '/Users/macbookpro/Downloads/stanford-ner-2014-06-16/stanford-ner.jar',\n",
    "                        encoding='utf-8')"
   ]
  },
  {
   "cell_type": "code",
   "execution_count": 4,
   "metadata": {},
   "outputs": [
    {
     "data": {
      "text/plain": [
       "[('GOLDMAN', 'ORGANIZATION'),\n",
       " ('SACHS', 'ORGANIZATION'),\n",
       " ('EMPLOYEES', 'O'),\n",
       " ('ARE', 'O'),\n",
       " ('HAUNTED', 'O'),\n",
       " ('BY', 'O'),\n",
       " ('A', 'O'),\n",
       " ('U.K.', 'LOCATION'),\n",
       " ('DOCTOR', 'O'),\n",
       " ('’', 'O'),\n",
       " ('S', 'O'),\n",
       " ('ALLEGED', 'O'),\n",
       " ('SEXUAL', 'O'),\n",
       " ('ASSAULTS', 'O')]"
      ]
     },
     "execution_count": 4,
     "metadata": {},
     "output_type": "execute_result"
    }
   ],
   "source": [
    "sentence = \"Goldman Sachs employees are haunted by a U.K. doctor’s alleged sexual assaults\"\n",
    "sentence = sentence.upper()\n",
    "tokenized_text = word_tokenize(sentence)\n",
    "classified_text = st.tag(tokenized_text)\n",
    "classified_text\n",
    "#sentence.split(' ')"
   ]
  },
  {
   "cell_type": "code",
   "execution_count": 5,
   "metadata": {},
   "outputs": [],
   "source": [
    "# Create a two lists where in the first one we have every word in the sentence while \n",
    "# in te second one we have the token assigned to the word\n",
    "table=[]\n",
    "word=[]\n",
    "class_type = []\n",
    "for i in range(len(classified_text)):\n",
    "    table+=classified_text[i]\n",
    "for i in range(len(table)):\n",
    "    if i%2==0:\n",
    "        word.append(table[i])\n",
    "    else:\n",
    "        class_type.append(table[i])\n"
   ]
  },
  {
   "cell_type": "code",
   "execution_count": 6,
   "metadata": {},
   "outputs": [],
   "source": [
    "tickers =pd.read_csv('/Users/macbookpro/Documents/GitHub/nlp/data/word_vectors/SP500_Tickers.csv')"
   ]
  },
  {
   "cell_type": "code",
   "execution_count": 7,
   "metadata": {},
   "outputs": [],
   "source": [
    "def insert_ticker(classified_text,tickers,word):\n",
    "    names = tickers['Name'].tolist()\n",
    "    ticker = tickers['Ticker'].tolist()\n",
    "    for i in range(len(classified_text)):\n",
    "        if 'ORGANIZATION' in classified_text[i]:\n",
    "            for name in names:\n",
    "                if word[i] in name: \n",
    "                    word[i]=name\n",
    "                    \n",
    "    for j in range(len(word)-1):\n",
    "        if word[j] == word[j+1]:\n",
    "            word.remove(word[j])\n",
    "            \n",
    "    for k in range(len(names)):\n",
    "        for h in range(len(word)):\n",
    "            if names[k] == word[h]:\n",
    "                word[h] = '__' + ticker[k]"
   ]
  },
  {
   "cell_type": "code",
   "execution_count": 8,
   "metadata": {},
   "outputs": [
    {
     "ename": "IndexError",
     "evalue": "list index out of range",
     "output_type": "error",
     "traceback": [
      "\u001b[0;31m---------------------------------------------------------------------------\u001b[0m",
      "\u001b[0;31mIndexError\u001b[0m                                Traceback (most recent call last)",
      "\u001b[0;32m<ipython-input-8-f7295415c75d>\u001b[0m in \u001b[0;36m<module>\u001b[0;34m\u001b[0m\n\u001b[0;32m----> 1\u001b[0;31m \u001b[0minsert_ticker\u001b[0m\u001b[0;34m(\u001b[0m\u001b[0mclassified_text\u001b[0m\u001b[0;34m,\u001b[0m\u001b[0mtickers\u001b[0m\u001b[0;34m,\u001b[0m\u001b[0mword\u001b[0m\u001b[0;34m)\u001b[0m\u001b[0;34m\u001b[0m\u001b[0;34m\u001b[0m\u001b[0m\n\u001b[0m\u001b[1;32m      2\u001b[0m \u001b[0mprint\u001b[0m\u001b[0;34m(\u001b[0m\u001b[0mword\u001b[0m\u001b[0;34m)\u001b[0m\u001b[0;34m\u001b[0m\u001b[0;34m\u001b[0m\u001b[0m\n",
      "\u001b[0;32m<ipython-input-7-6640471e1c71>\u001b[0m in \u001b[0;36minsert_ticker\u001b[0;34m(classified_text, tickers, word)\u001b[0m\n\u001b[1;32m      9\u001b[0m \u001b[0;34m\u001b[0m\u001b[0m\n\u001b[1;32m     10\u001b[0m     \u001b[0;32mfor\u001b[0m \u001b[0mj\u001b[0m \u001b[0;32min\u001b[0m \u001b[0mrange\u001b[0m\u001b[0;34m(\u001b[0m\u001b[0mlen\u001b[0m\u001b[0;34m(\u001b[0m\u001b[0mword\u001b[0m\u001b[0;34m)\u001b[0m\u001b[0;34m-\u001b[0m\u001b[0;36m1\u001b[0m\u001b[0;34m)\u001b[0m\u001b[0;34m:\u001b[0m\u001b[0;34m\u001b[0m\u001b[0;34m\u001b[0m\u001b[0m\n\u001b[0;32m---> 11\u001b[0;31m         \u001b[0;32mif\u001b[0m \u001b[0mword\u001b[0m\u001b[0;34m[\u001b[0m\u001b[0mj\u001b[0m\u001b[0;34m]\u001b[0m \u001b[0;34m==\u001b[0m \u001b[0mword\u001b[0m\u001b[0;34m[\u001b[0m\u001b[0mj\u001b[0m\u001b[0;34m+\u001b[0m\u001b[0;36m1\u001b[0m\u001b[0;34m]\u001b[0m\u001b[0;34m:\u001b[0m\u001b[0;34m\u001b[0m\u001b[0;34m\u001b[0m\u001b[0m\n\u001b[0m\u001b[1;32m     12\u001b[0m             \u001b[0mword\u001b[0m\u001b[0;34m.\u001b[0m\u001b[0mremove\u001b[0m\u001b[0;34m(\u001b[0m\u001b[0mword\u001b[0m\u001b[0;34m[\u001b[0m\u001b[0mj\u001b[0m\u001b[0;34m]\u001b[0m\u001b[0;34m)\u001b[0m\u001b[0;34m\u001b[0m\u001b[0;34m\u001b[0m\u001b[0m\n\u001b[1;32m     13\u001b[0m \u001b[0;34m\u001b[0m\u001b[0m\n",
      "\u001b[0;31mIndexError\u001b[0m: list index out of range"
     ]
    }
   ],
   "source": [
    "insert_ticker(classified_text,tickers,word)\n",
    "print(word)"
   ]
  },
  {
   "cell_type": "code",
   "execution_count": null,
   "metadata": {},
   "outputs": [],
   "source": []
  }
 ],
 "metadata": {
  "kernelspec": {
   "display_name": "Python 3",
   "language": "python",
   "name": "python3"
  },
  "language_info": {
   "codemirror_mode": {
    "name": "ipython",
    "version": 3
   },
   "file_extension": ".py",
   "mimetype": "text/x-python",
   "name": "python",
   "nbconvert_exporter": "python",
   "pygments_lexer": "ipython3",
   "version": "3.7.3"
  }
 },
 "nbformat": 4,
 "nbformat_minor": 2
}
