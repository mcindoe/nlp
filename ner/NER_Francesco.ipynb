{
 "cells": [
  {
   "cell_type": "code",
   "execution_count": 4,
   "metadata": {},
   "outputs": [
    {
     "name": "stdout",
     "output_type": "stream",
     "text": [
      "showing info https://raw.githubusercontent.com/nltk/nltk_data/gh-pages/index.xml\n"
     ]
    },
    {
     "data": {
      "text/plain": [
       "True"
      ]
     },
     "execution_count": 4,
     "metadata": {},
     "output_type": "execute_result"
    }
   ],
   "source": [
    "#pip install nltk \n",
    "# from te pop up window install: punkt, Averaged perceptron Tagger\n",
    "#nltk.download()"
   ]
  },
  {
   "cell_type": "code",
   "execution_count": 1,
   "metadata": {},
   "outputs": [],
   "source": [
    "import nltk\n",
    "from nltk.tokenize import sent_tokenize, word_tokenize\n",
    "from nltk.corpus import stopwords\n",
    "from nltk.stem import PorterStemmer\n",
    "import os\n",
    "from nltk.tag import StanfordNERTagger"
   ]
  },
  {
   "cell_type": "code",
   "execution_count": 3,
   "metadata": {},
   "outputs": [
    {
     "data": {
      "text/plain": [
       "['Barclays',\n",
       " 'employees',\n",
       " 'are',\n",
       " 'haunted',\n",
       " 'by',\n",
       " 'a',\n",
       " 'U.K.',\n",
       " 'doctor',\n",
       " '’',\n",
       " 's',\n",
       " 'alleged',\n",
       " 'sexual',\n",
       " 'assaults']"
      ]
     },
     "execution_count": 3,
     "metadata": {},
     "output_type": "execute_result"
    }
   ],
   "source": [
    "sentence = \"Barclays employees are haunted by a U.K. doctor’s alleged sexual assaults\"\n",
    "\n",
    "tokens = nltk.word_tokenize(sentence)\n",
    "tokens"
   ]
  },
  {
   "cell_type": "code",
   "execution_count": 5,
   "metadata": {},
   "outputs": [
    {
     "data": {
      "text/plain": [
       "[('Barclays', 'NNS'),\n",
       " ('employees', 'NNS'),\n",
       " ('are', 'VBP'),\n",
       " ('haunted', 'VBN'),\n",
       " ('by', 'IN'),\n",
       " ('a', 'DT'),\n",
       " ('U.K.', 'NNP'),\n",
       " ('doctor', 'NN'),\n",
       " ('’', 'NNP'),\n",
       " ('s', 'NN'),\n",
       " ('alleged', 'VBD'),\n",
       " ('sexual', 'JJ'),\n",
       " ('assaults', 'NNS')]"
      ]
     },
     "execution_count": 5,
     "metadata": {},
     "output_type": "execute_result"
    }
   ],
   "source": [
    "tagged = nltk.pos_tag(tokens)\n",
    "tagged"
   ]
  },
  {
   "cell_type": "code",
   "execution_count": 6,
   "metadata": {
    "scrolled": true
   },
   "outputs": [
    {
     "name": "stdout",
     "output_type": "stream",
     "text": [
      "['Barclays employees are haunted by a U.K. doctor’s alleged sexual assaults']\n",
      "['Barclays', 'employees', 'are', 'haunted', 'by', 'a', 'U.K.', 'doctor', '’', 's', 'alleged', 'sexual', 'assaults']\n"
     ]
    }
   ],
   "source": [
    "phrases = sent_tokenize(sentence)\n",
    "words = word_tokenize(sentence)\n",
    " \n",
    "print(phrases)\n",
    "print(words)"
   ]
  },
  {
   "cell_type": "code",
   "execution_count": 9,
   "metadata": {},
   "outputs": [
    {
     "name": "stdout",
     "output_type": "stream",
     "text": [
      "['Barclays', 'employees', 'haunted', 'U.K.', 'doctor', '’', 'alleged', 'sexual', 'assaults']\n"
     ]
    }
   ],
   "source": [
    "stopWords = set(stopwords.words('english'))\n",
    "#words = word_tokenize(sentence)\n",
    "wordsFiltered = [w for w in words if w not in stopWords]\n",
    " \n",
    "print(wordsFiltered)"
   ]
  },
  {
   "cell_type": "code",
   "execution_count": 10,
   "metadata": {
    "scrolled": true
   },
   "outputs": [
    {
     "name": "stdout",
     "output_type": "stream",
     "text": [
      "barclay\n",
      "employe\n",
      "are\n",
      "haunt\n",
      "by\n",
      "a\n",
      "u.k.\n",
      "doctor\n",
      "’\n",
      "s\n",
      "alleg\n",
      "sexual\n",
      "assault\n"
     ]
    }
   ],
   "source": [
    "ps = PorterStemmer()\n",
    " \n",
    "for word in words:\n",
    "    print(ps.stem(word))"
   ]
  },
  {
   "cell_type": "code",
   "execution_count": 22,
   "metadata": {},
   "outputs": [],
   "source": [
    "java_path = \"/Users/macbookpro/Downloads/jdk-13.0.1.jdk/Contents/Home/bin/java\"\n",
    "os.environ['JAVAHOME'] = java_path\n",
    "st = StanfordNERTagger('/Users/macbookpro/Downloads/stanford-ner-2014-06-16/classifiers/english.all.3class.distsim.crf.ser.gz',\n",
    "                          '/Users/macbookpro/Downloads/stanford-ner-2014-06-16/stanford-ner.jar',\n",
    "                        encoding='utf-8')"
   ]
  },
  {
   "cell_type": "code",
   "execution_count": 26,
   "metadata": {},
   "outputs": [
    {
     "name": "stdout",
     "output_type": "stream",
     "text": [
      "[('GS', 'O'), ('employees', 'O'), ('are', 'O'), ('haunted', 'O'), ('by', 'O'), ('a', 'O'), ('UK', 'LOCATION'), ('doctors', 'O'), ('alleged', 'O'), ('sexual', 'O'), ('assaults', 'O')]\n",
      "['GS', 'employees', 'are', 'haunted', 'by', 'a', 'UK', 'doctors', 'alleged', 'sexual', 'assaults']\n"
     ]
    }
   ],
   "source": [
    "# -*- coding: utf-8 -*-\n",
    "text = 'While in France, Christine Lagarde discussed short-term stimulus efforts in a recent interview with the WALL STREET Journal.'\n",
    "sentence = \"GS employees are haunted by a UK doctors alleged sexual assaults\"\n",
    "tokenized_text = word_tokenize(sentence)\n",
    "classified_text = st.tag(tokenized_text)\n",
    "\n",
    "print(classified_text)\n",
    "print(tokenized_text)"
   ]
  },
  {
   "cell_type": "code",
   "execution_count": 82,
   "metadata": {},
   "outputs": [],
   "source": [
    "table=[]\n",
    "word=[]\n",
    "class_type = []"
   ]
  },
  {
   "cell_type": "code",
   "execution_count": 83,
   "metadata": {},
   "outputs": [],
   "source": [
    "for i in range(len(classified_text)):\n",
    "    table+=classified_text[i]\n",
    "    "
   ]
  },
  {
   "cell_type": "code",
   "execution_count": 93,
   "metadata": {},
   "outputs": [],
   "source": [
    "for i in range(len(table)):\n",
    "    if i%2==0:\n",
    "        word.append(table[i])\n",
    "    else:\n",
    "        class_type.append(table[i])\n"
   ]
  },
  {
   "cell_type": "code",
   "execution_count": 94,
   "metadata": {},
   "outputs": [],
   "source": [
    "import pandas as pd\n",
    "data=pd.DataFrame(class_type,word)"
   ]
  },
  {
   "cell_type": "code",
   "execution_count": 91,
   "metadata": {},
   "outputs": [
    {
     "data": {
      "text/html": [
       "<div>\n",
       "<style scoped>\n",
       "    .dataframe tbody tr th:only-of-type {\n",
       "        vertical-align: middle;\n",
       "    }\n",
       "\n",
       "    .dataframe tbody tr th {\n",
       "        vertical-align: top;\n",
       "    }\n",
       "\n",
       "    .dataframe thead th {\n",
       "        text-align: right;\n",
       "    }\n",
       "</style>\n",
       "<table border=\"1\" class=\"dataframe\">\n",
       "  <thead>\n",
       "    <tr style=\"text-align: right;\">\n",
       "      <th></th>\n",
       "      <th>0</th>\n",
       "    </tr>\n",
       "  </thead>\n",
       "  <tbody>\n",
       "    <tr>\n",
       "      <th>GOLDMAN</th>\n",
       "      <td>ORGANIZATION</td>\n",
       "    </tr>\n",
       "    <tr>\n",
       "      <th>SACHS</th>\n",
       "      <td>ORGANIZATION</td>\n",
       "    </tr>\n",
       "    <tr>\n",
       "      <th>employees</th>\n",
       "      <td>O</td>\n",
       "    </tr>\n",
       "    <tr>\n",
       "      <th>are</th>\n",
       "      <td>O</td>\n",
       "    </tr>\n",
       "    <tr>\n",
       "      <th>haunted</th>\n",
       "      <td>O</td>\n",
       "    </tr>\n",
       "    <tr>\n",
       "      <th>by</th>\n",
       "      <td>O</td>\n",
       "    </tr>\n",
       "    <tr>\n",
       "      <th>a</th>\n",
       "      <td>O</td>\n",
       "    </tr>\n",
       "    <tr>\n",
       "      <th>UK</th>\n",
       "      <td>LOCATION</td>\n",
       "    </tr>\n",
       "    <tr>\n",
       "      <th>doctors</th>\n",
       "      <td>O</td>\n",
       "    </tr>\n",
       "    <tr>\n",
       "      <th>alleged</th>\n",
       "      <td>O</td>\n",
       "    </tr>\n",
       "    <tr>\n",
       "      <th>sexual</th>\n",
       "      <td>O</td>\n",
       "    </tr>\n",
       "    <tr>\n",
       "      <th>assaults</th>\n",
       "      <td>O</td>\n",
       "    </tr>\n",
       "  </tbody>\n",
       "</table>\n",
       "</div>"
      ],
      "text/plain": [
       "                      0\n",
       "GOLDMAN    ORGANIZATION\n",
       "SACHS      ORGANIZATION\n",
       "employees             O\n",
       "are                   O\n",
       "haunted               O\n",
       "by                    O\n",
       "a                     O\n",
       "UK             LOCATION\n",
       "doctors               O\n",
       "alleged               O\n",
       "sexual                O\n",
       "assaults              O"
      ]
     },
     "execution_count": 91,
     "metadata": {},
     "output_type": "execute_result"
    }
   ],
   "source": [
    "data"
   ]
  },
  {
   "cell_type": "code",
   "execution_count": null,
   "metadata": {},
   "outputs": [],
   "source": []
  }
 ],
 "metadata": {
  "kernelspec": {
   "display_name": "nlp",
   "language": "python",
   "name": "nlp"
  },
  "language_info": {
   "codemirror_mode": {
    "name": "ipython",
    "version": 3
   },
   "file_extension": ".py",
   "mimetype": "text/x-python",
   "name": "python",
   "nbconvert_exporter": "python",
   "pygments_lexer": "ipython3",
   "version": "3.6.8"
  }
 },
 "nbformat": 4,
 "nbformat_minor": 2
}
