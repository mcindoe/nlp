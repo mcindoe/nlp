{
 "cells": [
  {
   "cell_type": "code",
   "execution_count": 1,
   "metadata": {},
   "outputs": [],
   "source": [
    "# pip install nltk \n",
    "# from the pop up window install: punkt, Averaged perceptron Tagger\n",
    "# nltk.download()"
   ]
  },
  {
   "cell_type": "code",
   "execution_count": 2,
   "metadata": {},
   "outputs": [],
   "source": [
    "import nltk\n",
    "from nltk.tokenize import sent_tokenize, word_tokenize\n",
    "from nltk.corpus import stopwords\n",
    "from nltk.stem import PorterStemmer\n",
    "from nltk.tag import StanfordNERTagger\n",
    "import os\n",
    "import pandas as pd"
   ]
  },
  {
   "cell_type": "code",
   "execution_count": 3,
   "metadata": {},
   "outputs": [
    {
     "data": {
      "text/plain": [
       "['Barclays',\n",
       " 'employees',\n",
       " 'are',\n",
       " 'haunted',\n",
       " 'by',\n",
       " 'a',\n",
       " 'U.K.',\n",
       " 'doctor',\n",
       " '’',\n",
       " 's',\n",
       " 'alleged',\n",
       " 'sexual',\n",
       " 'assaults']"
      ]
     },
     "execution_count": 3,
     "metadata": {},
     "output_type": "execute_result"
    }
   ],
   "source": [
    "sentence = \"Barclays employees are haunted by a U.K. doctor’s alleged sexual assaults\"\n",
    "\n",
    "tokens = nltk.word_tokenize(sentence)\n",
    "tokens"
   ]
  },
  {
   "cell_type": "code",
   "execution_count": 4,
   "metadata": {},
   "outputs": [
    {
     "data": {
      "text/plain": [
       "[('Barclays', 'NNS'),\n",
       " ('employees', 'NNS'),\n",
       " ('are', 'VBP'),\n",
       " ('haunted', 'VBN'),\n",
       " ('by', 'IN'),\n",
       " ('a', 'DT'),\n",
       " ('U.K.', 'NNP'),\n",
       " ('doctor', 'NN'),\n",
       " ('’', 'NNP'),\n",
       " ('s', 'NN'),\n",
       " ('alleged', 'VBD'),\n",
       " ('sexual', 'JJ'),\n",
       " ('assaults', 'NNS')]"
      ]
     },
     "execution_count": 4,
     "metadata": {},
     "output_type": "execute_result"
    }
   ],
   "source": [
    "tagged = nltk.pos_tag(tokens)\n",
    "tagged"
   ]
  },
  {
   "cell_type": "code",
   "execution_count": 5,
   "metadata": {
    "scrolled": true
   },
   "outputs": [
    {
     "name": "stdout",
     "output_type": "stream",
     "text": [
      "['Barclays employees are haunted by a U.K. doctor’s alleged sexual assaults']\n",
      "['Barclays', 'employees', 'are', 'haunted', 'by', 'a', 'U.K.', 'doctor', '’', 's', 'alleged', 'sexual', 'assaults']\n"
     ]
    }
   ],
   "source": [
    "phrases = sent_tokenize(sentence)\n",
    "words = word_tokenize(sentence)\n",
    " \n",
    "print(phrases)\n",
    "print(words)"
   ]
  },
  {
   "cell_type": "code",
   "execution_count": 13,
   "metadata": {},
   "outputs": [
    {
     "name": "stdout",
     "output_type": "stream",
     "text": [
      "['Goldman', 'Sachs', 'employees', 'haunted', 'UK', 'doctors', 'alleged', 'sexual', 'assaults']\n"
     ]
    }
   ],
   "source": [
    "stopWords = set(stopwords.words('english'))\n",
    "filtered_words = [w for w in words if w not in stopWords]\n",
    " \n",
    "print(filtered_words)"
   ]
  },
  {
   "cell_type": "code",
   "execution_count": 14,
   "metadata": {
    "scrolled": true
   },
   "outputs": [
    {
     "name": "stdout",
     "output_type": "stream",
     "text": [
      "goldman\n",
      "sach\n",
      "employe\n",
      "are\n",
      "haunt\n",
      "by\n",
      "a\n",
      "UK\n",
      "doctor\n",
      "alleg\n",
      "sexual\n",
      "assault\n"
     ]
    }
   ],
   "source": [
    "ps = PorterStemmer()\n",
    " \n",
    "for word in words:\n",
    "    print(ps.stem(word))"
   ]
  },
  {
   "cell_type": "code",
   "execution_count": 15,
   "metadata": {},
   "outputs": [],
   "source": [
    "# Francesco's settings\n",
    "# java_path = \"/Users/macbookpro/Downloads/jdk-13.0.1.jdk/Contents/Home/bin/java\"\n",
    "\n",
    "# Enter your username in here. I've put the paths you wrote as an attribute in the dictionary below\n",
    "user = 'Conor'\n",
    "\n",
    "# Dictionary containing the Java paths for each user\n",
    "java_paths = {\n",
    "    'Conor': '/usr/lib/jvm/java-8-openjdk-amd64',\n",
    "    'Francesco': '/Users/macbookpro/Downloads/jdk-13.0.1.jdk/Contents/Home/bin/java',\n",
    "    'Cecilia': 'C:/Program Files/Java/jdk-13.0.1/bin/java.exe'\n",
    "}\n",
    "\n",
    "os.environ['JAVAHOME'] = java_paths[user]\n",
    "\n",
    "st = StanfordNERTagger(\n",
    "    'stanford-ner-2014-06-16/classifiers/english.all.3class.distsim.crf.ser.gz',\n",
    "    'stanford-ner-2014-06-16/stanford-ner.jar',\n",
    "    encoding='utf-8'\n",
    ")\n",
    "\n",
    "# Previous settings - updated to refer to version as in the GitHub repo so this should run for everyone\n",
    "# st = StanfordNERTagger('/Users/macbookpro/Downloads/stanford-ner-2014-06-16/classifiers/english.all.3class.distsim.crf.ser.gz',\n",
    "#                           '/Users/macbookpro/Downloads/stanford-ner-2014-06-16/stanford-ner.jar',\n",
    "#                         encoding='utf-8')"
   ]
  },
  {
   "cell_type": "code",
   "execution_count": 17,
   "metadata": {},
   "outputs": [
    {
     "name": "stdout",
     "output_type": "stream",
     "text": [
      "Tokenized Text:\n",
      "Goldman\n",
      "Sachs\n",
      "employees\n",
      "are\n",
      "haunted\n",
      "by\n",
      "a\n",
      "UK\n",
      "doctors\n",
      "alleged\n",
      "sexual\n",
      "assaults\n",
      "\n",
      "Classified Text:\n",
      "('Goldman', 'ORGANIZATION')\n",
      "('Sachs', 'ORGANIZATION')\n",
      "('employees', 'O')\n",
      "('are', 'O')\n",
      "('haunted', 'O')\n",
      "('by', 'O')\n",
      "('a', 'O')\n",
      "('UK', 'LOCATION')\n",
      "('doctors', 'O')\n",
      "('alleged', 'O')\n",
      "('sexual', 'O')\n",
      "('assaults', 'O')\n"
     ]
    }
   ],
   "source": [
    "# -*- coding: utf-8 -*-\n",
    "text = 'While in France, Christine Lagarde discussed short-term stimulus efforts in a recent interview with the WALL STREET Journal.'\n",
    "sentence = \"Goldman Sachs employees are haunted by a UK doctors alleged sexual assaults\"\n",
    "tokenized_text = word_tokenize(sentence)\n",
    "classified_text = st.tag(tokenized_text)\n",
    "\n",
    "print('Tokenized Text:')\n",
    "for el in tokenized_text:\n",
    "    print(el)\n",
    "\n",
    "print('\\nClassified Text:')\n",
    "for el in classified_text:\n",
    "    print(el)"
   ]
  },
  {
   "cell_type": "code",
   "execution_count": 25,
   "metadata": {},
   "outputs": [
    {
     "name": "stdout",
     "output_type": "stream",
     "text": [
      "Words:\n",
      "Goldman\n",
      "Sachs\n",
      "employees\n",
      "are\n",
      "haunted\n",
      "by\n",
      "a\n",
      "UK\n",
      "doctors\n",
      "alleged\n",
      "sexual\n",
      "assaults\n",
      "\n",
      "Classifications:\n",
      "ORGANIZATION\n",
      "ORGANIZATION\n",
      "O\n",
      "O\n",
      "O\n",
      "O\n",
      "O\n",
      "LOCATION\n",
      "O\n",
      "O\n",
      "O\n",
      "O\n"
     ]
    }
   ],
   "source": [
    "# Bit python magic to separate the list of tuples into two separate lists\n",
    "words, classifications = zip(*classified_text)\n",
    "\n",
    "print('Words:')\n",
    "for el in words:\n",
    "    print(el)\n",
    "    \n",
    "print('\\nClassifications:')\n",
    "for el in classifications:\n",
    "    print(el)"
   ]
  },
  {
   "cell_type": "code",
   "execution_count": 27,
   "metadata": {},
   "outputs": [
    {
     "data": {
      "text/html": [
       "<div>\n",
       "<style scoped>\n",
       "    .dataframe tbody tr th:only-of-type {\n",
       "        vertical-align: middle;\n",
       "    }\n",
       "\n",
       "    .dataframe tbody tr th {\n",
       "        vertical-align: top;\n",
       "    }\n",
       "\n",
       "    .dataframe thead th {\n",
       "        text-align: right;\n",
       "    }\n",
       "</style>\n",
       "<table border=\"1\" class=\"dataframe\">\n",
       "  <thead>\n",
       "    <tr style=\"text-align: right;\">\n",
       "      <th></th>\n",
       "      <th>0</th>\n",
       "    </tr>\n",
       "  </thead>\n",
       "  <tbody>\n",
       "    <tr>\n",
       "      <th>Goldman</th>\n",
       "      <td>ORGANIZATION</td>\n",
       "    </tr>\n",
       "    <tr>\n",
       "      <th>Sachs</th>\n",
       "      <td>ORGANIZATION</td>\n",
       "    </tr>\n",
       "    <tr>\n",
       "      <th>employees</th>\n",
       "      <td>O</td>\n",
       "    </tr>\n",
       "    <tr>\n",
       "      <th>are</th>\n",
       "      <td>O</td>\n",
       "    </tr>\n",
       "    <tr>\n",
       "      <th>haunted</th>\n",
       "      <td>O</td>\n",
       "    </tr>\n",
       "    <tr>\n",
       "      <th>by</th>\n",
       "      <td>O</td>\n",
       "    </tr>\n",
       "    <tr>\n",
       "      <th>a</th>\n",
       "      <td>O</td>\n",
       "    </tr>\n",
       "    <tr>\n",
       "      <th>UK</th>\n",
       "      <td>LOCATION</td>\n",
       "    </tr>\n",
       "    <tr>\n",
       "      <th>doctors</th>\n",
       "      <td>O</td>\n",
       "    </tr>\n",
       "    <tr>\n",
       "      <th>alleged</th>\n",
       "      <td>O</td>\n",
       "    </tr>\n",
       "    <tr>\n",
       "      <th>sexual</th>\n",
       "      <td>O</td>\n",
       "    </tr>\n",
       "    <tr>\n",
       "      <th>assaults</th>\n",
       "      <td>O</td>\n",
       "    </tr>\n",
       "  </tbody>\n",
       "</table>\n",
       "</div>"
      ],
      "text/plain": [
       "                      0\n",
       "Goldman    ORGANIZATION\n",
       "Sachs      ORGANIZATION\n",
       "employees             O\n",
       "are                   O\n",
       "haunted               O\n",
       "by                    O\n",
       "a                     O\n",
       "UK             LOCATION\n",
       "doctors               O\n",
       "alleged               O\n",
       "sexual                O\n",
       "assaults              O"
      ]
     },
     "execution_count": 27,
     "metadata": {},
     "output_type": "execute_result"
    }
   ],
   "source": [
    "data = pd.DataFrame(classifications, words)\n",
    "data"
   ]
  }
 ],
 "metadata": {
  "kernelspec": {
   "display_name": "nlp",
   "language": "python",
   "name": "nlp"
  },
  "language_info": {
   "codemirror_mode": {
    "name": "ipython",
    "version": 3
   },
   "file_extension": ".py",
   "mimetype": "text/x-python",
   "name": "python",
   "nbconvert_exporter": "python",
   "pygments_lexer": "ipython3",
   "version": "3.6.8"
  }
 },
 "nbformat": 4,
 "nbformat_minor": 2
}
